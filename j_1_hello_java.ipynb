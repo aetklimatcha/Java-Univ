{
 "cells": [
  {
   "cell_type": "markdown",
   "metadata": {
    "slideshow": {
     "slide_type": "slide"
    }
   },
   "source": [
    "# 1. Hello Java\n",
    "\n",
    "Last updated 20190305TUE 20180521MON1230 classpath+javac+java, 20180310SAT0948\n",
    "\n",
    "## 1.1 학습내용\n",
    "\n",
    "### 1.1.1 강의 목표\n",
    "\n",
    "* 객체지향 프로그래밍 Object Oriented Programming을 배운다. 프로그램은 컴퓨터가 할 일을 명령문으로 구성한 것이며, 객체지향 스타일로 만드는 방법을 배운다. **클래스 및 객체**, **가시성**, **생성자**, **반복 및 조건**, **배열**과 같은 객체지향적 프로그래밍에 필요한 내용을 배운다. 또한 **예외처리**, **패키지**, **입출력**, **GUI**, **이벤트**를 배운다. 빼놓을 수 없는 객체지향의 주요한 특징인 **상속**, **다형성**을 배우게 된다.\n",
    "* 프로그래밍을 막상 하려면 몇 줄짜리는 만들 수 있어도, 어떤 주제로 일정 규모가 되면 눈 앞이 깜깜한 경우가 많다. 이 후 **몇 백 줄 정도**의 객체지향 프로그램을 구현할 수 있는 능력을 기대한다.\n",
    "    * 클래스 5개 정도 - 연관, 상속, 다형성 사용\n",
    "    * 클래스 1개에 100줄 정도, 수 백 줄 규모의 프로그래밍을 만들 수 있다."
   ]
  },
  {
   "cell_type": "markdown",
   "metadata": {
    "slideshow": {
     "slide_type": "subslide"
    }
   },
   "source": [
    "### 1.1.2 목표\n",
    "\n",
    "* 자신이 자바를 배워야 하는 이유를 말할 수 있다.\n",
    "* 자바의 특징을 이해할 수 있다.\n",
    "* 자바 실행 환경을 설치할 수 있다.\n",
    "* 자바 jshell을 사용할 수 있다.\n",
    "\n",
    "### 1.1.3 문제\n",
    "\n",
    "* 문제 1-1: Hello World"
   ]
  },
  {
   "cell_type": "markdown",
   "metadata": {
    "slideshow": {
     "slide_type": "subslide"
    }
   },
   "source": [
    "## 1.2 java 소개\n",
    "\n",
    "왜 자바를 배워야 하는가? 자바는 순수 객체지향 언어이고, 이식성이 높다는 등의 특징만 가지고 그 이유를 설명할 수는 없다. 자바는 인기가 높은 언어이다. 자바는 많이 사용되고 있어 **취업기회**가 높다. 프로그래밍 언어의 인기를 가늠할 수 있는 사이트에서 자바는 경쟁언어인 C++를 앞서고 있다.\n",
    "* [tiobe](http://www.tiobe.com/tiobe-index/) - 2019년 현재 1위\n",
    "* [PYPL PouplaritY of Programming Language](http://pypl.github.io/PYPL.html) - 2019년 현재 2위\n",
    "\n",
    "참고로 자바는 다른 언어와 비교해서 어느 분야에서 많이 사용되고 있는지 살펴보자. [어떤 프로그래밍 언어를 배워야 할까?](https://www.codementor.io/learn-programming/beginner-programming-language-job-salary-community)\n",
    "* 기업에서 많이 사용하는 언어 java\n",
    "* 응용소프트웨어, 시스템 소프트웨어나 운영체제 등을 만들 때 사용하는 언어 C 또는 C++\n",
    "* 웹 브라우저에서 동작하는 프로그램을 작성할 때 사용하는 언어 Javascript\n",
    "* 데이터분석에서 많이 사용되는 언어 Python\n",
    "* 데이를 체계적으로 사용할려면 배워야하는 언어 SQL"
   ]
  },
  {
   "cell_type": "markdown",
   "metadata": {
    "slideshow": {
     "slide_type": "subslide"
    }
   },
   "source": [
    "* 자바는 문법이 C와 많이 닮아 있지만, 객체지향언어라는 점에서 다르다. 그렇기 때문에 자바와 비교할 수 있는 언어는 C++이다. 자바는 **포인터**가 없고, 객체지향만으로 프로그래밍해야 한다.\n",
    "    * **WORA** write once, run everywhere - JVM에서 실행되기 때문에, 이식성이 좋다.\n",
    "    * 웹에 잘 어울리는 프로그램 언어 - JSP, Servelet, RMI와 같이 웹에 많이 적용되고 있다."
   ]
  },
  {
   "cell_type": "markdown",
   "metadata": {
    "slideshow": {
     "slide_type": "subslide"
    }
   },
   "source": [
    "* Java로 할 수 있는 일\n",
    "    * Java Application - 자바로 어플리케이션을 만들 수 있다.\n",
    "    * Java Applet - 웹브라우저에서 앱을 실행할 수 있다. 자바스크립트, ActiveX가 하는 일을 할 수 있다.\n",
    "    * Web - 웹서버에서 실행할 수 잇다. Servlet, JSP, EJB를 사용한다.\n",
    "    * Java Beans - 재사용 가능한 컴포넌트를 만들 수 있다.\n",
    "    * Android - 아이폰과 더불어 핸드폰에 주로 사용되는 안드로이드에서 실행할 수 있다."
   ]
  },
  {
   "cell_type": "markdown",
   "metadata": {
    "slideshow": {
     "slide_type": "subslide"
    }
   },
   "source": [
    "* Java의 발전\n",
    "    * 50 reserved words\n",
    "    * 사용되는 클래스의 수가 늘어나고 있다 (Java 8 Pocket Guide book by Robert Liguori, Patricia Liguori). 처음에는 불과 수 백개에 불과했지만 현재는 수 천 개로 늘어났다.\n",
    "\n",
    "java version | codename | release | number of classes\n",
    "-----|-----|-----|-----\n",
    "java 2 SE 9  | - | 2017 | 6,005\n",
    "java 2 SE 8 with JDK 1.8 | - | 2014 | 4,240\n",
    "java 2 SE 7 with JDK 1.7 | Dolphin | 2011 | 4,024\n",
    "java 2 SE 6 with JDK 1.6 | Mustang | 2006 | 3,793\n",
    "java 2 SE 5 with JDK 1.5 | Tiger | 2004 | 3,279\n",
    "java 2 SE with SDK 1.4 | Merlin | 2002 | 2,991\n",
    "java 2 SE with SDK 1.3 | Kestrel | 2000 | 1,824\n",
    "Java 2 with SDK 1.3 |Playground | 1998 | 1,520\n",
    "Development Kit 1.1 | - | 1997 | 504\n",
    "Development Kit 1.0 | Oak | 1996 | 212"
   ]
  },
  {
   "cell_type": "markdown",
   "metadata": {
    "slideshow": {
     "slide_type": "subslide"
    }
   },
   "source": [
    "Java는 사용하는 플랫폼에 따라 구분할 수 있다. 보통 사용자는 Java SE Development Kit를, 기업에서는 EE를 사용한다.\n",
    "\n",
    "* Java SE (Standard Edition) - java.lang, java.io, java.math, java.net, java.util, etc...\n",
    "* Java EE (Enterprise Edition) -  Enterprise JavaBeans, servlets, portlets, Java Server Pages, etc...\n",
    "* Java ME (Micro Edition) - 모바일, 임베디드 시스템에 사용\n",
    "* Java FX - UI를 만들기 위해 사용, Java SE 8에 포함.\n"
   ]
  },
  {
   "cell_type": "markdown",
   "metadata": {
    "slideshow": {
     "slide_type": "subslide"
    }
   },
   "source": [
    "## 1.3 프로그래밍이란\n",
    "\n",
    "* 프로그래밍은 어떤 문제를 컴퓨터로 하여금 풀 수 있도록, 컴퓨터가 실행할 수 있는 명령문으로 작성하는 것이다.\n",
    "* 객체지향 프로그래밍 (OOP, Object-Oriented Programming)에서는 컴퓨터가 실행하는 단위가 **클래스**이다. 함수프로그램에서는 **함수**가 실행단위이다.\n",
    "* 클래스는 **재사용, reuse**이 유리한 구조를 가지고 있다. 프로그래밍을 더 빠르게, 더 좋게 할 수 있다 (faster and better).\n",
    "* 객체지향 프로그래밍의 절차:\n",
    "    * 설계 - 요구사항을 해결할 수 있도록 클래스와 그 관계를 만든다.\n",
    "    * 개발\n",
    "        * 코딩 - 설계된 클래스를 원시코드로 만듦\n",
    "        * 컴파일 - 원시코드를 bytecode로 만듦\n",
    "        * 실행 - JVM에 byte code를 읽어서 실행 (JVM이 다양한 기기에서 실행되므로, WORA라고 말함)\n",
    "        * 디버깅 - 오류를 제거.\n",
    "    * 테스트 - 요구사항이 충족되었는지 테스트"
   ]
  },
  {
   "cell_type": "markdown",
   "metadata": {
    "slideshow": {
     "slide_type": "subslide"
    }
   },
   "source": [
    "## 1.4 쉽게 배우는 자바\n",
    "\n",
    "* java는 컴파일 언어라서 어렵다.\n",
    "* 스크립트 언어와 달리 데이터 형 data type을 미리 정해서, 메모리를 효율적으로 사용해야 한다.\n",
    "* jshell은 java 9에 새로 들어오는 '대화형' 기능\n",
    "* java가 대화형으로 사용할 수 없는 반면, 대하형이 가능한 언어가 인기를 끌고 있다 (예: Scala)\n",
    "* jshell의 특징\n",
    "    * 명령문으로만 작성 (클래스 없이)\n",
    "    * jshell에서는 source -> compile -> run이 아니라, 명령문마다 실행\n",
    "    * 명령창에서 실행해도 되고, ipython kernel로 실행해도 된다 (ipython notebook의 magic, shell기능은 사용할 수 없다)"
   ]
  },
  {
   "cell_type": "markdown",
   "metadata": {
    "slideshow": {
     "slide_type": "slide"
    }
   },
   "source": [
    "## 1.5 환경설정\n",
    "\n",
    "###  jdk\n",
    "\n",
    "컴퓨터 운영체제에 맞는 Java SE Development Kit를 설치한다.\n",
    "윈도우에서는 Oracle 사이트로 가서 내려받아 설치한다.\n",
    "리눅스는 패키지관리자를 사용하여 설치한다.\n"
   ]
  },
  {
   "cell_type": "markdown",
   "metadata": {
    "slideshow": {
     "slide_type": "subslide"
    }
   },
   "source": [
    "#### 경로 설정\n",
    "\n",
    "설치하고 나서 잘 되었는지 확인한다. java와 javac의 경로 및 버전 모두 확인한다. \n",
    "윈도우는:\n",
    "\n",
    "```python\n",
    "C:\\>where java\n",
    "C:\\Program Files\\Java\\jdk-9.0.1\\bin\\java.exe\n",
    "\n",
    "C:\\>java -version\n",
    "java version \"1.8.0_152\" <-- 버전이 다르게 출력되는 경우 반드시 수정해야 한다.\n",
    "Java(TM) SE Runtime Environment (build 1.8.0_152-b16)\n",
    "Java HotSpot(TM) 64-Bit Server VM (build 25.152-b16, mixed mode)\n",
    "```\n",
    "\n",
    "리눅스는:\n",
    "\n",
    "```python\n",
    "$ which java\n",
    "/usr/bin/java\n",
    "```\n",
    "\n",
    "경로가 올바르게 설정되지 않았으면 일치시켜야 한다. 또는 자바가 여러 버전이 설치되어 있으면 java, javac를 모두  일치 시킨다.\n",
    "\n",
    "리눅스 | 윈도우 \n",
    "-----|-----\n",
    "update-alternatives --config java | 관리자 권한으로 단말을 열어서 \"Run as administrator\"<br>```cd C:\\ProgramData\\Oracle\\Java\\javapath```<br>```mklink java.exe \"c:\\Program Files\\Java\\jdk1.8.0_152\\bin\\java.exe\"```"
   ]
  },
  {
   "cell_type": "markdown",
   "metadata": {
    "slideshow": {
     "slide_type": "subslide"
    }
   },
   "source": [
    "#### 개발환경\n",
    "\n",
    "자바는 개발환경이 잘 갖추어진 언어이다.\n",
    "객체지향언어로서 개발과정 전체에서 UML을 활용할 수 있다.\n",
    "여기서는 **개발단계에 초점을 맞추어 환경을 설치**하여 진행하기로 한다.\n",
    "특히 IDE는 통합개발환경 Integrated Development Environment으로 코딩, 컴파일, 실행, 디버깅 등을 수행할 때 필요한 도구를 제공한다. 많이 쓰이는 IDE로는 Eclipse, IntelliJ가 있다. 이 도구들은 개발을 편리하고 빠르게 할 수 있지만, 없어지면 불능 상태의 개발자로 만들어 버리기도 한다. JDK에는 컴파일러 및 디버거가 갖추어져 있다. 명령어 방식으로 컴파일, 실행, 디버깅할 수 있는 지식을 갖춘 후, IDE를 그 다음에 사용하기로 하자. 간단하고 가벼운 편집기로는 UltraEdit, Notepad++, Sublime, **Atom** 등이 있다. 일부 전문적 프로그래머는 더 가볍고 플러긴을 추가해서 사용할 수 있는 Vim, Emacs를 선호하는 경우도 많다.\n",
    "\n",
    "단계 | 자주 사용하는 도구 | 이번 강의에서는\n",
    "-----|-----|-----\n",
    "요구사항 | UML의 사용사례를 사용해 요구사항을 적는다 | 사용하지 않음\n",
    "설계 | UML의 클래스다이어그램, 순차다이어그램 등을 작성하여 클래스와 그 관계를 표현 | 사용\n",
    "개발 | IDE | Eclipse, IntelliJ 등을 선호. 배우는 초반에는 가벼운 편집기, Vim, Emacs 또는 Atom 등을 이용하고 명령어로 컴파일 및 실행.\n",
    "Test | JUnit | 사용하지 않음\n",
    "Version Control | Git, SVN, Mercurial | 사용하지 않음\n",
    "배포 | Maven, Ant, Gradle | 사용하지 않음"
   ]
  },
  {
   "cell_type": "markdown",
   "metadata": {
    "collapsed": true,
    "slideshow": {
     "slide_type": "subslide"
    }
   },
   "source": [
    "## 1.6 프로그래밍 스타일\n",
    "\n",
    "\n",
    "* comments\n",
    "\n",
    "* 들여쓰기, 공백\n",
    "    * 이진 연산자는 앞 뒤로 공백\n",
    "\n",
    "```java\n",
    "나쁨 System.out.println(1+2*3);\n",
    "좋음 System.out.println(1 + 2 * 3);\n",
    "```\n",
    "\n",
    "* 괄호를 새로 줄을 만들어 처음에 넣을 수 있다. 여기서는 다음과 같이 붙여서 C 스타일로 작성한다. \n",
    "\n",
    "```java\n",
    "public class Hello {\n",
    "    ...\n",
    "}\n",
    "```\n",
    "\n",
    "* Code Conventions for the Java Programming Language \n",
    "http://www.oracle.com/technetwork/java/javase/documentation/codeconvtoc-136057.html\n"
   ]
  },
  {
   "cell_type": "markdown",
   "metadata": {
    "slideshow": {
     "slide_type": "slide"
    }
   },
   "source": [
    "## 1.7 간단한 자바 프로그램 만들고, 컴파일해보자.\n",
    "\n",
    "'헬로우 월드'를 출력하는 프로그램을 만들어 보자.\n",
    "프로그램은 간단하지만, 개발환경을 설정하고 명령어방식으로 컴파일, 실행하려면 준비가 필요하다."
   ]
  },
  {
   "cell_type": "markdown",
   "metadata": {
    "slideshow": {
     "slide_type": "subslide"
    }
   },
   "source": [
    "### 디렉토리 구성\n",
    "\n",
    "* 최상위 디렉토리 'Code'를 먼저 만든다.\n",
    "* 'Code' 아래 'myProject' **프로젝트 디렉토리**를 만든다.\n",
    "* 'myProject' 아래 'lib', 'classes', 'src' 디렉토리를 만든다.\n",
    "    * 'lib'은 **라이브러리** jar들을 저장\n",
    "    * 'classes'는 **컴파일한 파일**들을 저장\n",
    "    * 'src'는 **소스코드 파일**들을 저장\n",
    "\n",
    "```python\n",
    "C:\\Code\\myProject\\ 리눅스는 '/home/user/Code/myProject\n",
    "         |\n",
    "         ---> lib\\\n",
    "         |\n",
    "         ---> classes\\\n",
    "                |\n",
    "                ---> Hello.class 컴파일하고 나면 만들어지는 class\n",
    "         |\n",
    "         ---> src\\\n",
    "                |\n",
    "                ---> Hello.java\n",
    "```"
   ]
  },
  {
   "cell_type": "markdown",
   "metadata": {
    "slideshow": {
     "slide_type": "subslide"
    }
   },
   "source": [
    "### java파일 만들기\n",
    "\n",
    "* 모든 public class는 하나씩 .java파일로 이름을 지어서 저장한다.\n",
    "* 클래스명과 파일명은 동일하게 한다.\n",
    "* 2개의 클래스를 한 파일에 넣을 경우, 파일명과 동일한 클래스만 public으로 정의한다."
   ]
  },
  {
   "cell_type": "markdown",
   "metadata": {
    "slideshow": {
     "slide_type": "subslide"
    }
   },
   "source": [
    "### 코드\n",
    "\n",
    "간단한 \"hello world!\"를 출력하는 프로그램이다.\n",
    "코드 하나 하나 이해가 가지 않겠지만 차차 배우기로 한다.\n",
    "\n",
    "줄 번호 | 설명\n",
    "-----|-----\n",
    "1 | 클래스 이름을 Hello\n",
    "2 | String name 속성에 \"world!\" 저장. main() 함수가 static이라서 static 수식어 붙임.\n",
    "3 | 생성자 재정의. name을 변경할 수 있도록 함.\n",
    "6 | sayHello()함수를 구현. static main()함수에서 호출하므로 static 수식어 붙임.\n",
    "9 | main()함수를 구현. 수식어는 좀 복잡하지만 잘 기억하도록 한다."
   ]
  },
  {
   "cell_type": "markdown",
   "metadata": {
    "slideshow": {
     "slide_type": "subslide"
    }
   },
   "source": [
    "### 명령어방식, command line의 컴파일 및 실행\n",
    "\n",
    "컴파일은 javac, 실행은 java를 사용한다.\n",
    "\n",
    "#### 컴파일하기\n",
    "\n",
    "* javac: java source code (.java) > java byte code (.class)\n",
    "```java\n",
    "$ javac\n",
    "```\n",
    "    \n",
    "* javac -help로 도움말을 볼 수 있다.\n",
    "```java\n",
    "$ javac -help\n",
    "-verbose\n",
    "-g\n",
    "-classpath\n",
    "-sourcepath\n",
    "-d\n",
    "```\n",
    "\n",
    "* 윈도우에서 java를 저장하고 컴파일하면 \"error: illegal character: '\\ufeff'\"\n",
    "    * Notepad에서 ANSI 형식으로 저장하면 BOM (Byte Order Mark) 문제\n",
    "    * javac -encoding \"unicode\"로 컴파일 형식을 unicode로 저장한다."
   ]
  },
  {
   "cell_type": "markdown",
   "metadata": {
    "slideshow": {
     "slide_type": "subslide"
    }
   },
   "source": [
    "#### 실행하기\n",
    "\n",
    "* java: JVM runs java byte code (.class)\n",
    "```java\n",
    "$ java\n",
    "```\n",
    "\n",
    "선택 명령어 | 설명\n",
    "-----|-----\n",
    "-d `<디렉토리>` | 생성된 class 파일을 저장하는 디렉토리\n",
    "-sourcepath `<path>` | 소스코드가 저장된 경로\n",
    "-cp `<path>` | class 파일이 저장된 경로\n",
    "\n",
    "\n",
    "javac, java에 선택명령어를 사용하여 실행한다.\n",
    "디렉토리가 윈도우 ('\\') 또는 리눅스 ('/')에 따라 다르다는 점에 주의한다.\n",
    "\n",
    "구분 | 윈도우 | 리눅스\n",
    "-----|-----|-----\n",
    "컴파일 | javac -d classes -sourcepath src\\ src\\Hello.java | javac -d classes/ -sourcepath src/ src/Hello.java \n",
    "실행 | java -cp classes Hello | java -cp classes/ Hello"
   ]
  },
  {
   "cell_type": "markdown",
   "metadata": {
    "slideshow": {
     "slide_type": "subslide"
    }
   },
   "source": [
    "### classpath\n",
    "\n",
    "* 컴파일할 때, classpath 명시해주거나 환경변수설정하고 생략\n",
    "    * 리눅스 classpath 설정\n",
    "```python\n",
    "\\$ export CLASSPATH=\\$CLASSPATH:./classes/\n",
    "\\$ echo \\$CLASSPATH 또는 $ printenv\n",
    "```\n",
    "    \n",
    "    * 윈도우 classpath 설정\n",
    "        * 현재 명령창에만 환경변수 유지\n",
    "```python\n",
    "set classpath=%classpath%;.\\classes;.\n",
    "echo %classpath%\n",
    "```\n",
    "        * 시스템 환경변수를 변경하려면 setx 명령어를 사용한다.\n",
    "\n",
    "* .class 파일을 찾는 경로 (우선 순위)\n",
    "    1.  \\$JAVA\\_HOME/lib\n",
    "    2.  \\$JAVA\\_HOME/jre/lib/ext\n",
    "    3.  \\$CLASSPATH\n",
    "    4.  -classpath\n",
    "    5.  현재 작업하고 있는 directory"
   ]
  },
  {
   "cell_type": "code",
   "execution_count": null,
   "metadata": {
    "collapsed": true,
    "slideshow": {
     "slide_type": "subslide"
    }
   },
   "outputs": [],
   "source": [
    "# %load src/Hello.java\n",
    "class Hello {\n",
    "    static String name=\"world!\";\n",
    "    Hello(String name) {\n",
    "        this.name=name;\n",
    "    }\n",
    "    static void sayHello() {\n",
    "        System.out.println(\"hello \" + name);\n",
    "    }\n",
    "    public static void main(String[] args) {\n",
    "        sayHello();\n",
    "    }\n",
    "}\n"
   ]
  },
  {
   "cell_type": "markdown",
   "metadata": {
    "slideshow": {
     "slide_type": "slide"
    }
   },
   "source": [
    "## 1.8 요약\n",
    "\n",
    "* 프로그램은 컴퓨터가 해야 할 일을 명령어로 작성..\n",
    "* 컴파일은 컴퓨터 프로그램을 기계어로 변환\n",
    "* 자바는 1991년 제임스 고슬링\n",
    "* 자바는 가전제품에 내장되는 소형, 내장형\n",
    "* WORA (Write Once Run Anywhere)\n",
    "* 자바 소스는 .java 컴파일하면 .class\n"
   ]
  },
  {
   "cell_type": "markdown",
   "metadata": {
    "slideshow": {
     "slide_type": "slide"
    }
   },
   "source": [
    "## 1.9 연습문제\n",
    "\n",
    "* Java를 설치하고 java, javac를 실행해본다.\n",
    "\n",
    "```java\n",
    "C:\\> java -version\n",
    "C:\\> javac -version\n",
    "```\n",
    "\n",
    "* Java가 실행되는 경로를 출력한다.\n",
    "\n",
    "```java\n",
    "C:> where java\n",
    "```\n",
    "\n",
    "* Java가 설치된 디렉토리의 lib 디렉토리에 저장된 파일이 무엇에 쓰이는지 설명하시오.\n"
   ]
  }
 ],
 "metadata": {
  "celltoolbar": "Slideshow",
  "kernelspec": {
   "display_name": "Python 2",
   "language": "python",
   "name": "python2"
  },
  "language_info": {
   "codemirror_mode": {
    "name": "ipython",
    "version": 2
   },
   "file_extension": ".py",
   "mimetype": "text/x-python",
   "name": "python",
   "nbconvert_exporter": "python",
   "pygments_lexer": "ipython2",
   "version": "2.7.12"
  }
 },
 "nbformat": 4,
 "nbformat_minor": 0
}
