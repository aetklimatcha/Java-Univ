{
 "cells": [
  {
   "cell_type": "markdown",
   "metadata": {
    "slideshow": {
     "slide_type": "slide"
    }
   },
   "source": [
    "# 1. Hello jshell\n",
    "\n",
    "Last update 20180305TUE1139 20180310SAT1738\n",
    "\n",
    "## 1.1 학습내용\n",
    "\n",
    "### 1.1.2 목표\n",
    "\n",
    "* 자바 jshell을 사용할 수 있다.\n",
    "\n",
    "### 1.1.3 문제\n",
    "\n",
    "* 문제 1-1: 숫자 1, 2를 더해 보기\n",
    "* 문제 1-2: 1부터 100까지 합계 계산하기\n",
    "* 문제 1-3: a=1이라고 해 놓고, a 값이 1과 같은지 비교하기\n",
    "* 문제 1-4: jshell이용해 보기\n"
   ]
  },
  {
   "cell_type": "markdown",
   "metadata": {
    "slideshow": {
     "slide_type": "slide"
    }
   },
   "source": [
    "## 1.2 REPL\n",
    "\n",
    "REPL Read–eval–print loop는 **명령어를 입력하면, 읽고 실행하여 결과를 바로 출력**한다. Python 등과 같은 스크립트 언어에서 제공하는 쉘 Shell과 유사하다.\n",
    "\n",
    "자바에서는 REPL을 제공하지 않다가, 9부터 추가되었다. Groovy와 같은 언어에서 기능을 제공한다.\n",
    "JDK를 설치하면 바로 사용할 수 있다.\n",
    "온라인에서 jshell을 사용할 수 있는 사이트는 많지 않다. Java 9을 지원하는 사이트는 아래와 같다. 그러나 '/classes', '/classpath'와 같은 일부 명령어는 지원하지 않는다.\n",
    "* Java 9 지원 http://www.jshell-online.com/\n",
    "* Java 8 지원 http://www.javarepl.com/term.html\n",
    "* Java 8 지원 https://repl.it/languages"
   ]
  },
  {
   "cell_type": "markdown",
   "metadata": {
    "slideshow": {
     "slide_type": "slide"
    }
   },
   "source": [
    "jshell의 사용사례는:\n",
    "* **간단한 클래스**를 만들고 테스트할 경우에 사용할 수 있다. 단, 'public'은 지원하지 않는다.\n",
    "* 말 그대로 shell 방식으로 **프로토타잎**을 빠르게 테스트할 수 있다. 예를 들어, ArrayList, Stream, File 등 API를 간편하게 테스트할 수 있다. 어느 정도 완성이 되면 클래스를 만들 때 복사해서 활용할 수 있다.\n",
    "* 클래스를 만들고 **main() 함수없이 테스트**할 경우"
   ]
  },
  {
   "cell_type": "markdown",
   "metadata": {
    "slideshow": {
     "slide_type": "slide"
    }
   },
   "source": [
    "## 1.3 시작하기\n",
    "\n",
    "### 실행\n",
    "\n",
    "jdk 9를 설치하고 jshell을 실행한다.\n",
    "\n",
    "```java\n",
    "$ jshell\n",
    "jshell> \n",
    "```\n"
   ]
  },
  {
   "cell_type": "markdown",
   "metadata": {
    "collapsed": false,
    "scrolled": true,
    "slideshow": {
     "slide_type": "subslide"
    }
   },
   "source": [
    "### 도움말\n",
    "\n",
    "jshell이 지원하는 명령어와 간단한 도움말을 확인할 수 있다.\n",
    "\n",
    "```java\n",
    "jshell> /help\n",
    "```"
   ]
  },
  {
   "cell_type": "markdown",
   "metadata": {
    "slideshow": {
     "slide_type": "slide"
    }
   },
   "source": [
    "## 문제 1-1: 숫자 1, 2를 더해 보기\n",
    "\n",
    "앞서 설명한 바와 같이, 자바는 컴파일을 하지 않고서는 이런 간단한 문제도 풀 수 없다.\n",
    "jshell을 사용하면 프로그래밍이 간편해 진다. 컴파일을 하지 않고 결과를 볼 수 있다."
   ]
  },
  {
   "cell_type": "code",
   "execution_count": 1,
   "metadata": {
    "collapsed": false,
    "scrolled": false,
    "slideshow": {
     "slide_type": "subslide"
    }
   },
   "outputs": [],
   "source": [
    "1+2;"
   ]
  },
  {
   "cell_type": "markdown",
   "metadata": {
    "slideshow": {
     "slide_type": "subslide"
    }
   },
   "source": [
    "* 변수를 이용해서 더해보기\n",
    "    * 변수를 box라고 비유한다.\n",
    "    * box에 1이라는 수를 저장한다. box안에는 1이라는 수가 있게 된다.\n",
    "    * box에 이름을 붙인다. 임의로 a라고 한다.\n",
    "    * 즉 a라는 box에 1이라는 수가 있다. 즉 a는 1이라는 숫자를 가지고 있다.\n",
    "* 그러나 아래와 같이 하면 오류가 난다. 그 이유는 무엇일까?\n",
    "    * box의 모양이 여러 가지가 있다고 생각해보자.\n",
    "    * 네모 박스에는 숫자가 저장되고, 동그란 박스에는 문자가 저장된다.\n",
    "    * 네모 박스에 넣으려면 숫자만 된다."
   ]
  },
  {
   "cell_type": "code",
   "execution_count": null,
   "metadata": {
    "collapsed": false
   },
   "outputs": [],
   "source": [
    "a=1;"
   ]
  },
  {
   "cell_type": "code",
   "execution_count": 9,
   "metadata": {
    "collapsed": false
   },
   "outputs": [
    {
     "name": "stdout",
     "output_type": "stream",
     "text": [
      " int a=1;\r\n",
      "|  Added variable a of type int with initial value 1\r\n",
      "\r\n"
     ]
    }
   ],
   "source": [
    "int a=1;"
   ]
  },
  {
   "cell_type": "code",
   "execution_count": 10,
   "metadata": {
    "collapsed": false,
    "slideshow": {
     "slide_type": "subslide"
    }
   },
   "outputs": [
    {
     "name": "stdout",
     "output_type": "stream",
     "text": [
      " a='hello';\r\n",
      "|  Error:\r\n",
      "|  unclosed character literal\r\n",
      "|  a='hello';\r\n",
      "|    ^\r\n",
      "\r\n"
     ]
    }
   ],
   "source": [
    "a='hello';"
   ]
  },
  {
   "cell_type": "code",
   "execution_count": 13,
   "metadata": {
    "collapsed": false,
    "scrolled": false
   },
   "outputs": [
    {
     "name": "stdout",
     "output_type": "stream",
     "text": [
      " String s=\"hello\";\r\n",
      "|  Added variable s of type String with initial value \"hello\"\r\n",
      "\r\n"
     ]
    }
   ],
   "source": [
    "String s=\"hello\";"
   ]
  },
  {
   "cell_type": "markdown",
   "metadata": {
    "slideshow": {
     "slide_type": "subslide"
    }
   },
   "source": [
    "* a와 b를 더해보자.\n"
   ]
  },
  {
   "cell_type": "code",
   "execution_count": 15,
   "metadata": {
    "collapsed": false
   },
   "outputs": [
    {
     "name": "stdout",
     "output_type": "stream",
     "text": [
      " int b=2;\r\n",
      "|  Modified variable b of type int with initial value 2\r\n",
      "|    Update overwrote variable b\r\n",
      "\r\n",
      " int c;\r\n",
      "|  Added variable c of type int\r\n",
      "\r\n",
      " c=a+b;\r\n",
      "|  Variable c has been assigned the value 3\r\n",
      "\r\n"
     ]
    }
   ],
   "source": [
    "int b=2;\n",
    "int c;\n",
    "c=a+b;"
   ]
  },
  {
   "cell_type": "markdown",
   "metadata": {
    "slideshow": {
     "slide_type": "subslide"
    }
   },
   "source": [
    "* 함수로 만들어 보자.\n",
    "    * 함수명\n",
    "    * 입력변수\n",
    "        * argument\n",
    "        * parameter\n",
    "    * 돌려주는 값\n",
    "\n",
    "함수 요소 | 우리는 어떻게 만드나 | java\n",
    "-----|-----|-----\n",
    "함수명 | add | add\n",
    "입력변수 | a,b | int, int\n",
    "결과 값 | c | int\n",
    "\n",
    "\n",
    "```java\n",
    "int add(int, int)\n",
    "```"
   ]
  },
  {
   "cell_type": "code",
   "execution_count": 16,
   "metadata": {
    "collapsed": false,
    "slideshow": {
     "slide_type": "subslide"
    }
   },
   "outputs": [
    {
     "name": "stdout",
     "output_type": "stream",
     "text": [
      " int add(int num1, int num2) {\r\n",
      "     int res;\r\n",
      "     res=num1+num2;\r\n",
      "     return res;\r\n",
      " }\r\n",
      "|  Added method add(int,int)\r\n",
      "\r\n"
     ]
    }
   ],
   "source": [
    "int add(int num1, int num2) {\n",
    "    int res;\n",
    "    res=num1+num2;\n",
    "    return res;\n",
    "}"
   ]
  },
  {
   "cell_type": "code",
   "execution_count": 17,
   "metadata": {
    "collapsed": false,
    "slideshow": {
     "slide_type": "subslide"
    }
   },
   "outputs": [
    {
     "name": "stdout",
     "output_type": "stream",
     "text": [
      " c=add(a,b);\r\n",
      "|  Variable c has been assigned the value 3\r\n",
      "\r\n"
     ]
    }
   ],
   "source": [
    "c=add(a,b);"
   ]
  },
  {
   "cell_type": "code",
   "execution_count": 18,
   "metadata": {
    "collapsed": false
   },
   "outputs": [
    {
     "name": "stdout",
     "output_type": "stream",
     "text": [
      " System.out.println(c);\r\n",
      "3\r\n",
      "\r\n"
     ]
    }
   ],
   "source": [
    "System.out.println(c);"
   ]
  },
  {
   "cell_type": "markdown",
   "metadata": {
    "slideshow": {
     "slide_type": "subslide"
    }
   },
   "source": [
    "### `<TAB>` 사용하기\n",
    "\n",
    "명령어 자동완성, auto completion 기능을 사용할 수 있다.\n",
    "명령어 일부를 타이핑하고 나서, <TAB> 키를 누르면 그 상태에서의 사용가능한 명령어를 선택할 수 있다."
   ]
  },
  {
   "cell_type": "markdown",
   "metadata": {},
   "source": [
    "### `<SHIFT><TAB>`\n",
    "\n",
    "i 정보, v 변수를 알아볼 수 있다."
   ]
  },
  {
   "cell_type": "markdown",
   "metadata": {
    "slideshow": {
     "slide_type": "slide"
    }
   },
   "source": [
    "## 문제 1-2: 1부터 100까지 합계 계산하기\n",
    "\n",
    "한 줄씩뿐만 아니라, 여러 줄을 입력하고 실행할 수 있다. for문을 예로 실행해 보자."
   ]
  },
  {
   "cell_type": "code",
   "execution_count": 4,
   "metadata": {
    "collapsed": false
   },
   "outputs": [
    {
     "name": "stdout",
     "output_type": "stream",
     "text": [
      " int sum=0;\r\n",
      "|  Replaced variable sum of type int with initial value 0\r\n",
      "|    Update overwrote variable sum\r\n",
      "\r\n",
      " for(int i=0;i<10;i++)\r\n",
      "     sum+=i;\r\n",
      "\r\n"
     ]
    }
   ],
   "source": [
    "int sum=0;\n",
    "for(int i=0;i<10;i++)\n",
    "    sum+=i;"
   ]
  },
  {
   "cell_type": "code",
   "execution_count": 5,
   "metadata": {
    "collapsed": false,
    "scrolled": false
   },
   "outputs": [
    {
     "name": "stdout",
     "output_type": "stream",
     "text": [
      " System.out.println(sum);\r\n",
      "45\r\n",
      "\r\n"
     ]
    }
   ],
   "source": [
    "System.out.println(sum);"
   ]
  },
  {
   "cell_type": "markdown",
   "metadata": {
    "slideshow": {
     "slide_type": "subslide"
    }
   },
   "source": [
    "* 변수 보기\n",
    "\n",
    "```java\n",
    "jshell> /vars\n",
    "```"
   ]
  },
  {
   "cell_type": "markdown",
   "metadata": {
    "slideshow": {
     "slide_type": "slide"
    }
   },
   "source": [
    "## 문제1-3: a=1이라고 해 놓고, a 값이 1과 같은지 비교하기\n",
    "\n",
    "* a=1은 저장하기\n",
    "* 비교하려면 a==1\n",
    "* '='는 할당연산자, assignment의미, '=='는 비교연산자, equality 의미이다."
   ]
  },
  {
   "cell_type": "code",
   "execution_count": 1,
   "metadata": {
    "collapsed": false
   },
   "outputs": [
    {
     "name": "stdout",
     "output_type": "stream",
     "text": [
      " int a=1;\r\n",
      "|  Added variable a of type int with initial value 1\r\n",
      "\r\n"
     ]
    }
   ],
   "source": [
    "int a=1;"
   ]
  },
  {
   "cell_type": "code",
   "execution_count": 2,
   "metadata": {
    "collapsed": false
   },
   "outputs": [
    {
     "name": "stdout",
     "output_type": "stream",
     "text": [
      " a==1\r\n",
      "|  Expression value is: true\r\n",
      "|    assigned to temporary variable $2 of type boolean\r\n",
      "\r\n"
     ]
    }
   ],
   "source": [
    "a==1"
   ]
  },
  {
   "cell_type": "markdown",
   "metadata": {
    "slideshow": {
     "slide_type": "slide"
    }
   },
   "source": [
    "## 문제 1-4: jshell을 사용해서 환경 이용해 보기\n",
    "\n",
    "\n",
    "### 명령어\n",
    "\n",
    "jshell 명령어는 '/'로 시작한다.\n",
    "명령어 가운데 일부는 아래와 같다.\n",
    "\n",
    "명령어 | 설명\n",
    "-----|-----\n",
    "/list | 입력한 코드 보기 all, start\n",
    "/imports | import된 패키지\n",
    "/vars | 선언한 변수와 값\n",
    "/methods | 선언한 함수\n",
    "/save | 코드를 파일에 저장\n",
    "/open | 파일 열기\n",
    "/exit | 종료\n",
    "/set | 설정\n",
    "/! | 직전 명령어 재실행"
   ]
  },
  {
   "cell_type": "markdown",
   "metadata": {
    "slideshow": {
     "slide_type": "subslide"
    }
   },
   "source": [
    "### 설정\n",
    "\n",
    "몇 가지 설정을 할 수 있다. 'feedback'과 'editor' 설정을 살펴보자.\n",
    "* 명령어를 실행하고 결과를 보여주는 feedback이 보통은 내용이 많다. 이를 제거하고 싶으면 'off'로 설정한다.\n",
    "```java\n",
    "jshell> /set feedback\n",
    "  /set feedback normal <- 현재 feedback 상태를 알려준다.\n",
    "  \n",
    "  Available feedback modes: <- 가능한 feedback 설정이다.\n",
    "     concise\n",
    "     normal\n",
    "     silent\n",
    "     verbose\n",
    "```\n",
    "\n",
    "* jshell은 편집이 아무래도 불편하다. 'editor' 등록하면 편리하다. 설정하는 editor는 경로에 등록되어 있어야 한다.\n",
    "\n",
    "```java\n",
    "jshell> /set editor\n",
    "```"
   ]
  },
  {
   "cell_type": "code",
   "execution_count": 3,
   "metadata": {
    "collapsed": false,
    "slideshow": {
     "slide_type": "subslide"
    }
   },
   "outputs": [
    {
     "name": "stdout",
     "output_type": "stream",
     "text": [
      " int a =2\r\n",
      "|  Added variable a of type int with initial value 2\r\n",
      "\r\n"
     ]
    }
   ],
   "source": [
    "int a =2 "
   ]
  },
  {
   "cell_type": "code",
   "execution_count": 1,
   "metadata": {
    "collapsed": false,
    "scrolled": true,
    "slideshow": {
     "slide_type": "subslide"
    }
   },
   "outputs": [
    {
     "name": "stdout",
     "output_type": "stream",
     "text": [
      " /imports\r\n",
      "|    import java.util.*\r\n",
      "|    import java.io.*\r\n",
      "|    import java.math.*\r\n",
      "|    import java.net.*\r\n",
      "|    import java.util.concurrent.*\r\n",
      "|    import java.util.prefs.*\r\n",
      "|    import java.util.regex.*\r\n",
      "\r\n"
     ]
    }
   ],
   "source": [
    "/imports"
   ]
  },
  {
   "cell_type": "code",
   "execution_count": 4,
   "metadata": {
    "collapsed": false,
    "scrolled": true,
    "slideshow": {
     "slide_type": "subslide"
    }
   },
   "outputs": [
    {
     "name": "stdout",
     "output_type": "stream",
     "text": [
      " /vars\r\n",
      "|    int a = 2\r\n",
      "\r\n"
     ]
    }
   ],
   "source": [
    "/vars"
   ]
  },
  {
   "cell_type": "markdown",
   "metadata": {
    "slideshow": {
     "slide_type": "subslide"
    }
   },
   "source": [
    "* 이력\n",
    "    * 이력 보기\n",
    "    * 이력 저장하기\n",
    "    ```\n",
    "    /history\n",
    "    /save my.txt\n",
    "    ```"
   ]
  },
  {
   "cell_type": "markdown",
   "metadata": {
    "slideshow": {
     "slide_type": "subslide"
    }
   },
   "source": [
    "* methods보기\n",
    "    ```\n",
    "    /methods\n",
    "    ```"
   ]
  },
  {
   "cell_type": "code",
   "execution_count": 11,
   "metadata": {
    "collapsed": false
   },
   "outputs": [
    {
     "name": "stdout",
     "output_type": "stream",
     "text": [
      " /methods\r\n",
      "|    printf (String,Object...)void\r\n",
      "\r\n"
     ]
    }
   ],
   "source": [
    "/methods"
   ]
  },
  {
   "cell_type": "code",
   "execution_count": 5,
   "metadata": {
    "collapsed": false,
    "slideshow": {
     "slide_type": "subslide"
    }
   },
   "outputs": [
    {
     "name": "stdout",
     "output_type": "stream",
     "text": [
      " /history\r\n",
      "\r\n",
      "vars\r\n",
      "/vars\r\n",
      "int a =2\r\n",
      "/vars\r\n",
      "/history\r\n",
      "\r\n"
     ]
    }
   ],
   "source": [
    "/history"
   ]
  },
  {
   "cell_type": "markdown",
   "metadata": {
    "slideshow": {
     "slide_type": "subslide"
    }
   },
   "source": [
    "* load and execute"
   ]
  },
  {
   "cell_type": "code",
   "execution_count": null,
   "metadata": {
    "collapsed": false
   },
   "outputs": [],
   "source": [
    "/save my.txt"
   ]
  },
  {
   "cell_type": "code",
   "execution_count": null,
   "metadata": {
    "collapsed": true
   },
   "outputs": [],
   "source": [
    "/open my.txt"
   ]
  },
  {
   "cell_type": "markdown",
   "metadata": {
    "collapsed": true,
    "slideshow": {
     "slide_type": "subslide"
    }
   },
   "source": [
    "자바에서 제공하는 에디터가 편리하지 않으면 자신이 선호하는 것을 사용해도 된다.\n",
    "이 경우, 선호하는 에디터를 등록한다.\n",
    "**절대경로**를 넣고 /set editor -wait -retain \"c:/Users/jsl/AppData/Local/atom/atom.exe\"\n",
    "```python\n",
    "jshell> /set editor -wait -retain c:/Users/jsl/AppData/Local/atom/bin/atom.cmd\n",
    "|  Editor set to: -wait c:/Users/jsl/AppData/Local/atom/bin/atom.cmd\n",
    "|  Editor setting retained: -wait c:/Users/jsl/AppData/Local/atom/bin/atom.cmd\n",
    "\n",
    "jshell> /set editor\n",
    "|  /set editor -retain -wait c:/Users/jsl/AppData/Local/atom/bin/atom.cmd\n",
    "\n",
    "jshell> /list\n",
    "\n",
    "   3 : int a =4;\n",
    "\n",
    "jshell> /edit 1\n",
    "|  Press return to leave edit mode.\n",
    "```\n",
    "\n",
    "jshell에서는 **임시파일**을 만들어 편집을 한다. 다른 에디터를 사용하는 경우 변경이 반영될 수 있도록 '**-wait**'를 적어준다.\n",
    "편집이 끝나면 저장을 한다.\n",
    "\n",
    "```java\n",
    "/set editor vim\n",
    "/l\n",
    "/edit 1\n",
    "```"
   ]
  },
  {
   "cell_type": "code",
   "execution_count": 12,
   "metadata": {
    "collapsed": false,
    "scrolled": false
   },
   "outputs": [
    {
     "name": "stdout",
     "output_type": "stream",
     "text": [
      " /set editor vim\r\n",
      "|  Editor set to: editor vim\r\n",
      "\r\n"
     ]
    }
   ],
   "source": [
    "/set editor vim -w"
   ]
  },
  {
   "cell_type": "markdown",
   "metadata": {
    "collapsed": false,
    "scrolled": true,
    "slideshow": {
     "slide_type": "subslide"
    }
   },
   "source": [
    "/edit"
   ]
  },
  {
   "cell_type": "markdown",
   "metadata": {
    "collapsed": true,
    "slideshow": {
     "slide_type": "subslide"
    }
   },
   "source": [
    "* jshell에서 입력한 명령어를 스크립트로 저장할 경우 'start'로 시작하고 'end'로 끝낸다.\n",
    "\n",
    "```\n",
    "/set start myscript.jsh\n",
    "```"
   ]
  },
  {
   "cell_type": "markdown",
   "metadata": {
    "slideshow": {
     "slide_type": "subslide"
    }
   },
   "source": [
    "### 클래스 경로 classpath\n",
    "\n",
    "`/env -class-path <path>` 명령어를 사용하여 경로를 적어준다."
   ]
  }
 ],
 "metadata": {
  "celltoolbar": "Slideshow",
  "kernelspec": {
   "display_name": "Java 9",
   "language": "java",
   "name": "java"
  },
  "language_info": {
   "file_extension": ".class",
   "mimetype": "application/java-vm",
   "name": "java"
  }
 },
 "nbformat": 4,
 "nbformat_minor": 0
}
